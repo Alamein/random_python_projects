{
 "cells": [
  {
   "cell_type": "markdown",
   "metadata": {},
   "source": [
    "| Time         | Monday          | Tuesday         | Wednesday       | Thursday        | Friday          | Saturday        | Sunday          |\n",
    "|--------------|-----------------|-----------------|-----------------|-----------------|-----------------|-----------------|-----------------|\n",
    "| 8:00 - 9:30  | Class           | Study           | Class           | Study           | Class           |                 |                 |\n",
    "| 9:30 - 10:00 | Break           | Break           | Break           | Break           | Break           |                 |                 |\n",
    "| 10:00 - 12:00| Study           | Class           | Study           | Class           | Study           |                 |                 |\n",
    "| 12:00 - 1:00 | Lunch           | Lunch           | Lunch           | Lunch           | Lunch           |                 |                 |\n",
    "| 1:00 - 3:00  | Study           | Coding Session  | Study           | Coding Session  | Study           |                 |                 |\n",
    "| 3:00 - 3:30  | Break           | Break           | Break           | Break           | Break           |                 |                 |\n",
    "| 3:30 - 5:30  | Class           | Study           | Class           | Study           | Class           |                 |                 |\n",
    "|              |                 |                 |                 |                 |                 |                 |                 |\n"
   ]
  },
  {
   "cell_type": "markdown",
   "metadata": {},
   "source": [
    "# Daily Schedule Timetable\n",
    "\n",
    "## Monday\n",
    "\n",
    "- **8:00 AM - 9:00 AM:** Morning Routine\n",
    "- **9:00 AM - 10:30 AM:** Work/Study Session\n",
    "- **10:30 AM - 11:00 AM:** Break\n",
    "- **11:00 AM - 12:30 PM:** Class or Meeting\n",
    "- **12:30 PM - 1:30 PM:** Lunch\n",
    "- **1:30 PM - 3:00 PM:** Work/Study Session\n",
    "- **3:00 PM - 3:30 PM:** Break\n",
    "- **3:30 PM - 5:00 PM:** Creative Project or Hobby\n",
    "\n",
    "## Tuesday\n",
    "\n",
    "- **8:00 AM - 9:00 AM:** Morning Routine\n",
    "- **9:00 AM - 10:30 AM:** Work/Study Session\n",
    "- **10:30 AM - 11:00 AM:** Break\n",
    "- **11:00 AM - 12:30 PM:** Class or Meeting\n",
    "- **12:30 PM - 1:30 PM:** Lunch\n",
    "- **1:30 PM - 3:00 PM:** Work/Study Session\n",
    "- **3:00 PM - 3:30 PM:** Break\n",
    "- **3:30 PM - 5:00 PM:** Exercise or Outdoor Activity\n",
    "\n",
    "## Wednesday\n",
    "\n",
    "- **8:00 AM - 9:00 AM:** Morning Routine\n",
    "- **9:00 AM - 10:30 AM:** Work/Study Session\n",
    "- **10:30 AM - 11:00 AM:** Break\n",
    "- **11:00 AM - 12:30 PM:** Class or Meeting\n",
    "- **12:30 PM - 1:30 PM:** Lunch\n",
    "- **1:30 PM - 3:00 PM:** Work/Study Session\n",
    "- **3:00 PM - 3:30 PM:** Break\n",
    "- **3:30 PM - 5:00 PM:** Exercise or Outdoor Activity\n",
    "\n",
    "## Thursday\n",
    "\n",
    "- **8:00 AM - 9:00 AM:** Morning Routine\n",
    "- **9:00 AM - 10:30 AM:** Work/Study Session\n",
    "- **10:30 AM - 11:00 AM:** Break\n",
    "- **11:00 AM - 12:30 PM:** Class or Meeting\n",
    "- **12:30 PM - 1:30 PM:** Lunch\n",
    "- **1:30 PM - 3:00 PM:** Work/Study Session\n",
    "- **3:00 PM - 3:30 PM:** Break\n",
    "- **3:30 PM - 5:00 PM:** Exercise or Outdoor Activity\n",
    "\n",
    "## Friday\n",
    "\n",
    "- **8:00 AM - 9:00 AM:** Morning Routine\n",
    "- **9:00 AM - 10:30 AM:** Work/Study Session\n",
    "- **10:30 AM - 11:00 AM:** Break\n",
    "- **11:00 AM - 12:30 PM:** Class or Meeting\n",
    "- **12:30 PM - 1:30 PM:** Lunch\n",
    "- **1:30 PM - 3:00 PM:** Work/Study Session\n",
    "- **3:00 PM - 3:30 PM:** Break\n",
    "- **3:30 PM - 5:00 PM:** Exercise or Outdoor Activity\n",
    "\n",
    "## Saturday\n",
    "\n",
    "- **8:00 AM - 9:00 AM:** Morning Routine\n",
    "- **9:00 AM - 10:30 AM:** Work/Study Session\n",
    "- **10:30 AM - 11:00 AM:** Break\n",
    "- **11:00 AM - 12:30 PM:** Class or Meeting\n",
    "- **12:30 PM - 1:30 PM:** Lunch\n",
    "- **1:30 PM - 3:00 PM:** Work/Study Session\n",
    "- **3:00 PM - 3:30 PM:** Break\n",
    "- **3:30 PM - 5:00 PM:** Exercise or Outdoor Activity\n",
    "\n",
    "## Sunday\n",
    "\n",
    "- **8:00 AM - 9:00 AM:** Morning Routine\n",
    "- **9:00 AM - 10:30 AM:** Work/Study Session\n",
    "- **10:30 AM - 11:00 AM:** Break\n",
    "- **11:00 AM - 12:30 PM:** Class or Meeting\n",
    "- **12:30 PM - 1:30 PM:** Lunch\n",
    "- **1:30 PM - 3:00 PM:** Work/Study Session\n",
    "- **3:00 PM - 3:30 PM:** Break\n",
    "- **3:30 PM - 5:00 PM:** Exercise or Outdoor Activity\n",
    "\n",
    "\n"
   ]
  },
  {
   "cell_type": "code",
   "execution_count": 6,
   "metadata": {},
   "outputs": [
    {
     "name": "stdout",
     "output_type": "stream",
     "text": [
      "Course Code\t\tTime\t\tVenue\n",
      "-----------\t\t----\t\t-----\n",
      "ENG 2301\t\t8 - 10\t\tELT2\n",
      "MEC 2207\t\t11 - 1\t\tELT1\n",
      "MEC 2207\t\t11 - 1\t\tELT1\n",
      "MEC 2207\t\t11 - 1\t\tELT1\n",
      "MEC 2207\t\t11 - 1\t\tELT1\n",
      "MEC 2207\t\t11 - 1\t\tELT1\n"
     ]
    }
   ],
   "source": [
    "print('Course Code\\t\\tTime\\t\\tVenue')\n",
    "print('-----------\\t\\t----\\t\\t-----')\n",
    "print('ENG 2301\\t\\t8 - 10\\t\\tELT2')\n",
    "print('MEC 2207\\t\\t11 - 1\\t\\tELT1')\n",
    "print('MEC 2207\\t\\t11 - 1\\t\\tELT1')\n",
    "print('MEC 2207\\t\\t11 - 1\\t\\tELT1')\n",
    "print('MEC 2207\\t\\t11 - 1\\t\\tELT1')\n",
    "print('MEC 2207\\t\\t11 - 1\\t\\tELT1')"
   ]
  }
 ],
 "metadata": {
  "kernelspec": {
   "display_name": "Python 3",
   "language": "python",
   "name": "python3"
  },
  "language_info": {
   "codemirror_mode": {
    "name": "ipython",
    "version": 3
   },
   "file_extension": ".py",
   "mimetype": "text/x-python",
   "name": "python",
   "nbconvert_exporter": "python",
   "pygments_lexer": "ipython3",
   "version": "3.11.5"
  }
 },
 "nbformat": 4,
 "nbformat_minor": 2
}
