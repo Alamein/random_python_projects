{
 "cells": [
  {
   "cell_type": "code",
   "execution_count": 2,
   "metadata": {},
   "outputs": [
    {
     "name": "stdout",
     "output_type": "stream",
     "text": [
      "The area of the triangle for the given base 30.0cm and height 45.0cm is: 675.0cm^2\n"
     ]
    }
   ],
   "source": [
    "age = 21\n",
    "height = 6.5\n",
    "_complex = 2 + 2j\n",
    "t_hght, t_base = float(input('write the height of triangle ')), float(input('write the base of triangle ')) # (area = 0.5 x b x h).\n",
    "t_area = float(format((0.5 * (t_base*t_hght)), '.2f'))\n",
    "print(f'The area of the triangle for the given base {t_base}cm and height {t_hght}cm is: {t_area}cm^2')"
   ]
  },
  {
   "cell_type": "code",
   "execution_count": 6,
   "metadata": {},
   "outputs": [
    {
     "name": "stdout",
     "output_type": "stream",
     "text": [
      "Side a: 25.0\n",
      "Side b: 32.0\n",
      "Side c: 31.0\n",
      "The parameter of the triangle is 88.0\n"
     ]
    }
   ],
   "source": [
    "side_a,side_b,side_c = float(input('write the value of side a of the triangle ')), float(input('write the value of side b of triangle ')), float(input('write the value of the side c of the triangle ')) # (perimeter = a + b + c).\n",
    "p_r_m = float(format((side_a+side_b+side_c), '.2f'))\n",
    "print(f'Side a: {side_a}')\n",
    "print(f'Side b: {side_b}')\n",
    "print(f'Side c: {side_c}')\n",
    "print(f'The parameter of the triangle is {p_r_m}')"
   ]
  },
  {
   "cell_type": "code",
   "execution_count": 10,
   "metadata": {},
   "outputs": [
    {
     "name": "stdout",
     "output_type": "stream",
     "text": [
      "6\n",
      "6\n",
      "False\n"
     ]
    }
   ],
   "source": [
    "p_y = 'python'\n",
    "d_r = 'dragon'\n",
    "print(len(p_y))\n",
    "print(len(d_r))\n",
    "print('d' in p_y)"
   ]
  },
  {
   "cell_type": "code",
   "execution_count": 20,
   "metadata": {},
   "outputs": [
    {
     "name": "stdout",
     "output_type": "stream",
     "text": [
      "True\n",
      "True\n"
     ]
    }
   ],
   "source": [
    "print('on' in p_y)\n",
    "print('on' in d_r)"
   ]
  },
  {
   "cell_type": "code",
   "execution_count": 22,
   "metadata": {},
   "outputs": [
    {
     "name": "stdout",
     "output_type": "stream",
     "text": [
      "True\n"
     ]
    }
   ],
   "source": [
    "sntn = 'I hope this course is not full of jargon.'\n",
    "print('jargon' in sntn)"
   ]
  },
  {
   "cell_type": "code",
   "execution_count": 25,
   "metadata": {},
   "outputs": [
    {
     "data": {
      "text/plain": [
       "6.0"
      ]
     },
     "execution_count": 25,
     "metadata": {},
     "output_type": "execute_result"
    }
   ],
   "source": [
    "ln = len(p_y)\n",
    "ln = float(ln)\n",
    "ln"
   ]
  },
  {
   "cell_type": "code",
   "execution_count": 26,
   "metadata": {},
   "outputs": [
    {
     "data": {
      "text/plain": [
       "'6.0'"
      ]
     },
     "execution_count": 26,
     "metadata": {},
     "output_type": "execute_result"
    }
   ],
   "source": [
    "ln = str(ln)\n",
    "ln"
   ]
  },
  {
   "cell_type": "code",
   "execution_count": null,
   "metadata": {},
   "outputs": [],
   "source": []
  }
 ],
 "metadata": {
  "kernelspec": {
   "display_name": "Python 3",
   "language": "python",
   "name": "python3"
  },
  "language_info": {
   "codemirror_mode": {
    "name": "ipython",
    "version": 3
   },
   "file_extension": ".py",
   "mimetype": "text/x-python",
   "name": "python",
   "nbconvert_exporter": "python",
   "pygments_lexer": "ipython3",
   "version": "3.11.5"
  }
 },
 "nbformat": 4,
 "nbformat_minor": 2
}
