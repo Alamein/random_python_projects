{
 "cells": [
  {
   "cell_type": "code",
   "execution_count": 3,
   "metadata": {},
   "outputs": [
    {
     "name": "stdout",
     "output_type": "stream",
     "text": [
      "You are using python versiuon 3.11\n",
      "Python version information 3.11.5 (tags/v3.11.5:cce6ba9, Aug 24 2023, 14:38:34) [MSC v.1936 64 bit (AMD64)]\n"
     ]
    }
   ],
   "source": [
    "# 1\n",
    "# checking the python version\n",
    "import sys\n",
    "if sys.version_info.major == 3:\n",
    "    print(f\"You are using python versiuon 3.{sys.version_info.minor}\")\n",
    "else:\n",
    "    print(f'Your are using python {sys.version_info.minor}')\n",
    "print(f'Python version information {sys.version}')"
   ]
  },
  {
   "cell_type": "code",
   "execution_count": 7,
   "metadata": {},
   "outputs": [
    {
     "name": "stdout",
     "output_type": "stream",
     "text": [
      "5 + 7 = 12\n",
      "7 - 5 =  2\n",
      "5 * 7 =  35\n",
      "7 / 5 =  1.4\n",
      "7 // 5 =  1\n",
      "7 % 5 =  2\n",
      "5 ** 7 =  78125\n"
     ]
    }
   ],
   "source": [
    "# 2\n",
    "# trying python operators\n",
    "print('5 + 7 =', 5 + 7) # addition\n",
    "print('7 - 5 = ', 7 - 5) # subtraction\n",
    "print('5 * 7 = ', 5 * 7) # multiplication\n",
    "print('7 / 5 = ', 7 / 5) # division\n",
    "print('7 // 5 = ', 7 // 5) # floor division:- it only gives the whole number without reminders\n",
    "print('7 % 5 = ', 7 % 5) # modulus :- only gives the reminder\n",
    "print('5 ** 7 = ', 5 ** 7) # square"
   ]
  },
  {
   "cell_type": "code",
   "execution_count": 10,
   "metadata": {},
   "outputs": [
    {
     "name": "stdout",
     "output_type": "stream",
     "text": [
      " Al-amin \n",
      " Nababa \n",
      " Nigeria \n",
      " I am enjoying 30 days of python\n"
     ]
    }
   ],
   "source": [
    "# 3\n",
    "nm = \"Al-amin\"\n",
    "sur_nm = 'Nababa'\n",
    "cntr = 'Nigeria'\n",
    "fln = 'I am enjoying 30 days of python'\n",
    "print('', nm, \"\\n\", sur_nm, '\\n', cntr, '\\n', fln)"
   ]
  },
  {
   "cell_type": "code",
   "execution_count": 13,
   "metadata": {},
   "outputs": [
    {
     "name": "stdout",
     "output_type": "stream",
     "text": [
      "<class 'int'>\n",
      "<class 'float'>\n",
      "<class 'float'>\n",
      "<class 'complex'>\n",
      "<class 'list'>\n",
      "<class 'str'>\n",
      "<class 'str'>\n",
      "<class 'str'>\n"
     ]
    }
   ],
   "source": [
    "# 4\n",
    "# Checking python data types\n",
    "print(type(10))\n",
    "print(type(9.8))\n",
    "print(type(3.14))\n",
    "print(type(4 - 4j))\n",
    "print(type(['Asabeneh', 'Python', 'Finland']))\n",
    "print(type(nm))\n",
    "print(type(sur_nm))\n",
    "print(type(cntr))"
   ]
  },
  {
   "cell_type": "code",
   "execution_count": 18,
   "metadata": {},
   "outputs": [
    {
     "name": "stdout",
     "output_type": "stream",
     "text": [
      "The Euclidian distance between (2, 3) and (10, 8) is: 0.62m\n"
     ]
    }
   ],
   "source": [
    "# Find an Euclidian distance between (2, 3) and (10, 8)\n",
    "x_1 = 2\n",
    "x_2 = 10\n",
    "y_1 = 3\n",
    "y_2 = 8\n",
    "euc_dis = float(format(((y_2 - y_1)/(x_2 - x_1)), '.2f'))\n",
    "print(f'The Euclidian distance between (2, 3) and (10, 8) is: {euc_dis}m')"
   ]
  },
  {
   "cell_type": "code",
   "execution_count": 21,
   "metadata": {},
   "outputs": [
    {
     "data": {
      "text/plain": [
       "zip"
      ]
     },
     "execution_count": 21,
     "metadata": {},
     "output_type": "execute_result"
    }
   ],
   "source": [
    "zp = (zip([1,2,3],[4,5,6]))\n",
    "type(zp)"
   ]
  }
 ],
 "metadata": {
  "kernelspec": {
   "display_name": "Python 3",
   "language": "python",
   "name": "python3"
  },
  "language_info": {
   "codemirror_mode": {
    "name": "ipython",
    "version": 3
   },
   "file_extension": ".py",
   "mimetype": "text/x-python",
   "name": "python",
   "nbconvert_exporter": "python",
   "pygments_lexer": "ipython3",
   "version": "3.11.5"
  }
 },
 "nbformat": 4,
 "nbformat_minor": 2
}
