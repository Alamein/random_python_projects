{
 "cells": [
  {
   "cell_type": "code",
   "execution_count": 1,
   "metadata": {},
   "outputs": [],
   "source": [
    "first_naame = 'Al-amin'\n",
    "last_name = 'Nababa'\n",
    "full_name = first_naame + ' ' + last_name\n",
    "country = 'Nigeria'\n",
    "city = 'Abuja'\n",
    "age = 21\n",
    "year = 2024\n",
    "is_married = False\n",
    "course,career,org, = 'Automotive Engineering', 'Data Scientist', 'ArewaDS'"
   ]
  },
  {
   "cell_type": "code",
   "execution_count": 2,
   "metadata": {},
   "outputs": [
    {
     "name": "stdout",
     "output_type": "stream",
     "text": [
      "My name is Al-amin Nababa and I am 21 years old\n"
     ]
    }
   ],
   "source": [
    "print('My name is %s and I am %d years old'%(full_name, age))"
   ]
  },
  {
   "cell_type": "code",
   "execution_count": 3,
   "metadata": {},
   "outputs": [
    {
     "data": {
      "text/plain": [
       "'I am Al-amin Nababa I was born in Abuja Nigeria\\nI am 21 I am studiying Automotive Engineering and I am Data Scientist \\ncurrently fellow of Deep Learning at ArewaDS'"
      ]
     },
     "execution_count": 3,
     "metadata": {},
     "output_type": "execute_result"
    }
   ],
   "source": [
    "sl_intro = '''I am %s I was born in %s %s\n",
    "I am %d I am studiying %s and I am %s \n",
    "currently fellow of Deep Learning at %s'''%(full_name, city, country, age, course, career, org)\n",
    "sl_intro"
   ]
  },
  {
   "cell_type": "code",
   "execution_count": 4,
   "metadata": {},
   "outputs": [
    {
     "data": {
      "text/plain": [
       "'I am Al-amin Nababa I was born in Abuja Nigeria \\n I am 21 years old I am studiying Automotive Engineering and I am Data Scientist\\n currently fellow of deep learning at ArewaDS'"
      ]
     },
     "execution_count": 4,
     "metadata": {},
     "output_type": "execute_result"
    }
   ],
   "source": [
    "sl_intro = \"\"\"I am {} I was born in {} {} \n",
    " I am {} years old I am studiying {} and I am {}\n",
    " currently fellow of deep learning at {}\"\"\".format(full_name, city, country, age, course, career, org)\n",
    "sl_intro"
   ]
  },
  {
   "cell_type": "code",
   "execution_count": 5,
   "metadata": {},
   "outputs": [
    {
     "name": "stdout",
     "output_type": "stream",
     "text": [
      "Addition example: 5 + 2 = 7\n",
      "Subtraction: 5 - 2 = 3\n",
      "Multiplication: 5 * 2 = 10\n",
      "Multiplication: 5 * 2 = 10\n",
      "Division: 5 / 2 = 2.5\n",
      "Floor Division: 5 // 2 = 2\n",
      "Square root: 5 ** 2 = 25\n"
     ]
    }
   ],
   "source": [
    "_n1 = 5\n",
    "_n2 = 2\n",
    "_add = 'Addition example: {} + {} = {}'.format(_n1, _n2, _n1+_n2)\n",
    "_sub = 'Subtraction: {} - {} = {}'.format(_n1, _n2, _n1-_n2)\n",
    "_mul = 'Multiplication: {} * {} = {}'.format(_n1, _n2, _n1*_n2)\n",
    "_div = 'Division: {} / {} = {}'.format(_n1, _n2, _n1/_n2)\n",
    "_fld = 'Floor Division: {} // {} = {}'.format(_n1, _n2, _n1//_n2)\n",
    "_pwr = 'Square root: {} ** {} = {}'.format(_n1, _n2, _n1**_n2)\n",
    "print(_add)\n",
    "print(_sub)\n",
    "print(_mul)\n",
    "print(_mul)\n",
    "print(_div)\n",
    "print(_fld)\n",
    "print(_pwr)"
   ]
  },
  {
   "cell_type": "code",
   "execution_count": 6,
   "metadata": {},
   "outputs": [
    {
     "name": "stdout",
     "output_type": "stream",
     "text": [
      "Addition example: 5 + 2 = 7\n",
      "Subtraction: 5 - 2 = 7\n",
      "Multiplication: 5 * 2 = 10\n",
      "Multiplication: 5 * 2 = 10\n",
      "Division: 5 / 2 = 2.5\n",
      "Floor Division: 5 // 2 = 2\n",
      "Square root: 5 ** 2 = 25\n"
     ]
    }
   ],
   "source": [
    "# string interpolatiion\n",
    "_add = f'Addition example: {_n1} + {_n2} = {_n1 + _n2}'\n",
    "_sub = f'Subtraction: {_n1} - {_n2} = {_n1 + _n2}'\n",
    "_mul = f'Multiplication: {_n1} * {_n2} = {_n1 * _n2}'\n",
    "_div = f'Division: {_n1} / {_n2} = {_n1 / _n2}'\n",
    "_fld = f'Floor Division: {_n1} // {_n2} = {_n1 // _n2}'\n",
    "_pwr = f'Square root: {_n1} ** {_n2} = {_n1 ** _n2}'\n",
    "print(_add)\n",
    "print(_sub)\n",
    "print(_mul)\n",
    "print(_mul)\n",
    "print(_div)\n",
    "print(_fld)\n",
    "print(_pwr)"
   ]
  },
  {
   "cell_type": "code",
   "execution_count": 8,
   "metadata": {},
   "outputs": [
    {
     "name": "stdout",
     "output_type": "stream",
     "text": [
      "7\n"
     ]
    }
   ],
   "source": [
    "strn = 'Al-amin'\n",
    "print(len(strn))"
   ]
  },
  {
   "cell_type": "code",
   "execution_count": 10,
   "metadata": {},
   "outputs": [
    {
     "name": "stdout",
     "output_type": "stream",
     "text": [
      "A l - a m i n\n",
      "A\n",
      "l\n",
      "-\n",
      "a\n",
      "m\n",
      "i\n",
      "n\n"
     ]
    }
   ],
   "source": [
    "_1,_2,_3,_4,_5,_6,_7 = strn\n",
    "print(_1,_2,_3,_4,_5,_6,_7)\n",
    "print(_1)\n",
    "print(_2)\n",
    "print(_3)\n",
    "print(_4)\n",
    "print(_5)\n",
    "print(_6)\n",
    "print(_7)"
   ]
  },
  {
   "cell_type": "code",
   "execution_count": 17,
   "metadata": {},
   "outputs": [
    {
     "name": "stdout",
     "output_type": "stream",
     "text": [
      "n\n",
      "A\n",
      "n\n",
      "i\n",
      "m\n"
     ]
    }
   ],
   "source": [
    "last_index = len(strn)- 1\n",
    "print(strn[last_index]) # last letter in Al-amin\n",
    "print(strn[0]) # first letter in Al-amin\n",
    "print(strn[-1]) # last character in \"Al-amin\"\n",
    "print(strn[-2]) # second to the last character in \"Al-amin\"\n",
    "print(strn[-3]) # third to the last character in \"Al-amin\""
   ]
  },
  {
   "cell_type": "code",
   "execution_count": 3,
   "metadata": {},
   "outputs": [
    {
     "data": {
      "text/plain": [
       "'½'"
      ]
     },
     "execution_count": 3,
     "metadata": {},
     "output_type": "execute_result"
    }
   ],
   "source": [
    "'\\u00BD'"
   ]
  },
  {
   "cell_type": "code",
   "execution_count": 24,
   "metadata": {},
   "outputs": [
    {
     "name": "stdout",
     "output_type": "stream",
     "text": [
      "Al-\n",
      "min\n",
      "Al-\n",
      "min\n",
      "min\n"
     ]
    }
   ],
   "source": [
    "# string slicing\n",
    "first_three_c = strn[0:3] # start from zero (0) index to 3 but not icluding three (3) \"Al-\"\n",
    "last_three_c = strn[4:7]\n",
    "print(first_three_c)\n",
    "print(last_three_c)\n",
    "# in other way\n",
    "print(strn[:3]) # first three characters\n",
    "print(strn[4:]) # last three characters\n",
    "# or\n",
    "print(strn[-3:]) # last three characters"
   ]
  },
  {
   "cell_type": "code",
   "execution_count": 30,
   "metadata": {},
   "outputs": [
    {
     "name": "stdout",
     "output_type": "stream",
     "text": [
      "nima-lA\n"
     ]
    }
   ],
   "source": [
    "# reversing a string\n",
    "print(strn[::-1]) # reverse the string \"Al-amin\""
   ]
  },
  {
   "cell_type": "code",
   "execution_count": 36,
   "metadata": {},
   "outputs": [
    {
     "name": "stdout",
     "output_type": "stream",
     "text": [
      "A-mn\n",
      "Aan\n"
     ]
    }
   ],
   "source": [
    "# skipping character while slicing\n",
    "print(strn[0:7:2])\n",
    "# OR\n",
    "print(strn[0:7:3])"
   ]
  },
  {
   "cell_type": "code",
   "execution_count": 4,
   "metadata": {},
   "outputs": [
    {
     "data": {
      "text/plain": [
       "'Thirty Days Of Python'"
      ]
     },
     "execution_count": 4,
     "metadata": {},
     "output_type": "execute_result"
    }
   ],
   "source": [
    "th, dy, _f, py = 'Thirty', ' Days', ' Of ', 'Python'\n",
    "Thirty_Days_Of_Python = th + dy + _f + py\n",
    "Thirty_Days_Of_Python"
   ]
  },
  {
   "cell_type": "code",
   "execution_count": 6,
   "metadata": {},
   "outputs": [
    {
     "data": {
      "text/plain": [
       "'Coding For All'"
      ]
     },
     "execution_count": 6,
     "metadata": {},
     "output_type": "execute_result"
    }
   ],
   "source": [
    "cd, fr, al = 'Coding ', 'For ' , 'All'\n",
    "Coding_For_All = cd + fr + al\n",
    "Coding_For_All"
   ]
  },
  {
   "cell_type": "code",
   "execution_count": 11,
   "metadata": {},
   "outputs": [
    {
     "data": {
      "text/plain": [
       "'company'"
      ]
     },
     "execution_count": 11,
     "metadata": {},
     "output_type": "execute_result"
    }
   ],
   "source": [
    "var = 'company'\n",
    "var"
   ]
  },
  {
   "cell_type": "code",
   "execution_count": 12,
   "metadata": {},
   "outputs": [
    {
     "data": {
      "text/plain": [
       "7"
      ]
     },
     "execution_count": 12,
     "metadata": {},
     "output_type": "execute_result"
    }
   ],
   "source": [
    "len(var)"
   ]
  },
  {
   "cell_type": "code",
   "execution_count": 13,
   "metadata": {},
   "outputs": [
    {
     "data": {
      "text/plain": [
       "'COMPANY'"
      ]
     },
     "execution_count": 13,
     "metadata": {},
     "output_type": "execute_result"
    }
   ],
   "source": [
    "var.upper()"
   ]
  },
  {
   "cell_type": "code",
   "execution_count": 14,
   "metadata": {},
   "outputs": [
    {
     "data": {
      "text/plain": [
       "'company'"
      ]
     },
     "execution_count": 14,
     "metadata": {},
     "output_type": "execute_result"
    }
   ],
   "source": [
    "var.lower()"
   ]
  },
  {
   "cell_type": "code",
   "execution_count": 15,
   "metadata": {},
   "outputs": [
    {
     "data": {
      "text/plain": [
       "'Coding for all'"
      ]
     },
     "execution_count": 15,
     "metadata": {},
     "output_type": "execute_result"
    }
   ],
   "source": [
    "# Use capitalize(), title(), swapcase() methods to format the value of the string Coding For All.\n",
    "Coding_For_All.capitalize()"
   ]
  },
  {
   "cell_type": "code",
   "execution_count": 16,
   "metadata": {},
   "outputs": [
    {
     "data": {
      "text/plain": [
       "'cODING fOR aLL'"
      ]
     },
     "execution_count": 16,
     "metadata": {},
     "output_type": "execute_result"
    }
   ],
   "source": [
    "Coding_For_All.swapcase()"
   ]
  },
  {
   "cell_type": "code",
   "execution_count": 17,
   "metadata": {},
   "outputs": [
    {
     "data": {
      "text/plain": [
       "'Coding For All'"
      ]
     },
     "execution_count": 17,
     "metadata": {},
     "output_type": "execute_result"
    }
   ],
   "source": [
    "Coding_For_All.title()"
   ]
  },
  {
   "cell_type": "code",
   "execution_count": 18,
   "metadata": {},
   "outputs": [
    {
     "data": {
      "text/plain": [
       "'C'"
      ]
     },
     "execution_count": 18,
     "metadata": {},
     "output_type": "execute_result"
    }
   ],
   "source": [
    "Coding_For_All[0]"
   ]
  },
  {
   "cell_type": "code",
   "execution_count": 19,
   "metadata": {},
   "outputs": [
    {
     "data": {
      "text/plain": [
       "'l'"
      ]
     },
     "execution_count": 19,
     "metadata": {},
     "output_type": "execute_result"
    }
   ],
   "source": [
    "Coding_For_All[-1]"
   ]
  },
  {
   "cell_type": "code",
   "execution_count": 20,
   "metadata": {},
   "outputs": [
    {
     "data": {
      "text/plain": [
       "0"
      ]
     },
     "execution_count": 20,
     "metadata": {},
     "output_type": "execute_result"
    }
   ],
   "source": [
    "Coding_For_All.index('Coding')"
   ]
  },
  {
   "cell_type": "code",
   "execution_count": 21,
   "metadata": {},
   "outputs": [
    {
     "data": {
      "text/plain": [
       "0"
      ]
     },
     "execution_count": 21,
     "metadata": {},
     "output_type": "execute_result"
    }
   ],
   "source": [
    "Coding_For_All.rindex('Coding')"
   ]
  },
  {
   "cell_type": "code",
   "execution_count": 23,
   "metadata": {},
   "outputs": [
    {
     "data": {
      "text/plain": [
       "0"
      ]
     },
     "execution_count": 23,
     "metadata": {},
     "output_type": "execute_result"
    }
   ],
   "source": [
    "Coding_For_All.find('Coding')"
   ]
  },
  {
   "cell_type": "code",
   "execution_count": 24,
   "metadata": {},
   "outputs": [
    {
     "data": {
      "text/plain": [
       "0"
      ]
     },
     "execution_count": 24,
     "metadata": {},
     "output_type": "execute_result"
    }
   ],
   "source": [
    "Coding_For_All.rfind('Coding')"
   ]
  },
  {
   "cell_type": "code",
   "execution_count": 25,
   "metadata": {},
   "outputs": [
    {
     "data": {
      "text/plain": [
       "'Python For All'"
      ]
     },
     "execution_count": 25,
     "metadata": {},
     "output_type": "execute_result"
    }
   ],
   "source": [
    "Coding_For_All.replace('Coding', 'Python')"
   ]
  },
  {
   "cell_type": "code",
   "execution_count": 26,
   "metadata": {},
   "outputs": [
    {
     "data": {
      "text/plain": [
       "'Coding For Everyone'"
      ]
     },
     "execution_count": 26,
     "metadata": {},
     "output_type": "execute_result"
    }
   ],
   "source": [
    "Coding_For_All.replace('All', 'Everyone')"
   ]
  },
  {
   "cell_type": "code",
   "execution_count": 27,
   "metadata": {},
   "outputs": [
    {
     "data": {
      "text/plain": [
       "'Coding For All'"
      ]
     },
     "execution_count": 27,
     "metadata": {},
     "output_type": "execute_result"
    }
   ],
   "source": [
    "Coding_For_All.replace('Everyone', 'All')"
   ]
  },
  {
   "cell_type": "code",
   "execution_count": 40,
   "metadata": {},
   "outputs": [
    {
     "data": {
      "text/plain": [
       "['Coding', 'For', 'All']"
      ]
     },
     "execution_count": 40,
     "metadata": {},
     "output_type": "execute_result"
    }
   ],
   "source": [
    "Coding_For_All.split(' ')"
   ]
  },
  {
   "cell_type": "code",
   "execution_count": 42,
   "metadata": {},
   "outputs": [
    {
     "data": {
      "text/plain": [
       "['Facebook', ' Google', ' Microsoft', ' Apple', ' IBM', ' Oracle', ' Amazon']"
      ]
     },
     "execution_count": 42,
     "metadata": {},
     "output_type": "execute_result"
    }
   ],
   "source": [
    "st = \"Facebook, Google, Microsoft, Apple, IBM, Oracle, Amazon\" \n",
    "st.split(',')"
   ]
  },
  {
   "cell_type": "code",
   "execution_count": 43,
   "metadata": {},
   "outputs": [
    {
     "data": {
      "text/plain": [
       "'C'"
      ]
     },
     "execution_count": 43,
     "metadata": {},
     "output_type": "execute_result"
    }
   ],
   "source": [
    "Coding_For_All[0]"
   ]
  },
  {
   "cell_type": "code",
   "execution_count": 45,
   "metadata": {},
   "outputs": [
    {
     "data": {
      "text/plain": [
       "'l'"
      ]
     },
     "execution_count": 45,
     "metadata": {},
     "output_type": "execute_result"
    }
   ],
   "source": [
    "Coding_For_All[-1]"
   ]
  },
  {
   "cell_type": "code",
   "execution_count": 46,
   "metadata": {},
   "outputs": [
    {
     "data": {
      "text/plain": [
       "' '"
      ]
     },
     "execution_count": 46,
     "metadata": {},
     "output_type": "execute_result"
    }
   ],
   "source": [
    "Coding_For_All[10]"
   ]
  },
  {
   "cell_type": "code",
   "execution_count": 47,
   "metadata": {},
   "outputs": [
    {
     "data": {
      "text/plain": [
       "0"
      ]
     },
     "execution_count": 47,
     "metadata": {},
     "output_type": "execute_result"
    }
   ],
   "source": [
    "Coding_For_All.find('C')"
   ]
  },
  {
   "cell_type": "code",
   "execution_count": 48,
   "metadata": {},
   "outputs": [
    {
     "data": {
      "text/plain": [
       "7"
      ]
     },
     "execution_count": 48,
     "metadata": {},
     "output_type": "execute_result"
    }
   ],
   "source": [
    "Coding_For_All.find('F')"
   ]
  },
  {
   "cell_type": "code",
   "execution_count": 49,
   "metadata": {},
   "outputs": [
    {
     "data": {
      "text/plain": [
       "13"
      ]
     },
     "execution_count": 49,
     "metadata": {},
     "output_type": "execute_result"
    }
   ],
   "source": [
    "Coding_For_All.rfind('l')"
   ]
  },
  {
   "cell_type": "code",
   "execution_count": 50,
   "metadata": {},
   "outputs": [
    {
     "data": {
      "text/plain": [
       "31"
      ]
     },
     "execution_count": 50,
     "metadata": {},
     "output_type": "execute_result"
    }
   ],
   "source": [
    "st_nc = 'You cannot end a sentence with because because because is a conjunction'\n",
    "st_nc.index('because')"
   ]
  },
  {
   "cell_type": "code",
   "execution_count": 51,
   "metadata": {},
   "outputs": [
    {
     "data": {
      "text/plain": [
       "47"
      ]
     },
     "execution_count": 51,
     "metadata": {},
     "output_type": "execute_result"
    }
   ],
   "source": [
    "st_nc.rindex('because')"
   ]
  },
  {
   "cell_type": "code",
   "execution_count": 52,
   "metadata": {},
   "outputs": [
    {
     "data": {
      "text/plain": [
       "31"
      ]
     },
     "execution_count": 52,
     "metadata": {},
     "output_type": "execute_result"
    }
   ],
   "source": [
    "st_nc.find('because')"
   ]
  },
  {
   "cell_type": "code",
   "execution_count": 53,
   "metadata": {},
   "outputs": [
    {
     "data": {
      "text/plain": [
       "47"
      ]
     },
     "execution_count": 53,
     "metadata": {},
     "output_type": "execute_result"
    }
   ],
   "source": [
    "st_nc.rfind('because')"
   ]
  },
  {
   "cell_type": "code",
   "execution_count": 61,
   "metadata": {},
   "outputs": [
    {
     "data": {
      "text/plain": [
       "'because because because'"
      ]
     },
     "execution_count": 61,
     "metadata": {},
     "output_type": "execute_result"
    }
   ],
   "source": [
    "st_nc[31:54] # 'because because because'"
   ]
  },
  {
   "cell_type": "code",
   "execution_count": null,
   "metadata": {},
   "outputs": [],
   "source": []
  }
 ],
 "metadata": {
  "kernelspec": {
   "display_name": "Python 3",
   "language": "python",
   "name": "python3"
  },
  "language_info": {
   "codemirror_mode": {
    "name": "ipython",
    "version": 3
   },
   "file_extension": ".py",
   "mimetype": "text/x-python",
   "name": "python",
   "nbconvert_exporter": "python",
   "pygments_lexer": "ipython3",
   "version": "3.11.5"
  }
 },
 "nbformat": 4,
 "nbformat_minor": 2
}
