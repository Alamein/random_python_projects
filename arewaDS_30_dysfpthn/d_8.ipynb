{
 "cells": [
  {
   "cell_type": "code",
   "execution_count": null,
   "metadata": {},
   "outputs": [],
   "source": [
    "# Create an empty dictionary called dog\n",
    "# Add name, color, breed, legs, age to the dog dictionary\n",
    "# Create a student dictionary and add first_name, last_name, gender, age, marital status, skills, country, city and address as keys for the dictionary\n",
    "# Get the length of the student dictionary\n",
    "# Get the value of skills and check the data type, it should be a list\n",
    "# Modify the skills values by adding one or two skills\n",
    "# Get the dictionary keys as a list\n",
    "# Get the dictionary values as a list\n",
    "# Change the dictionary to a list of tuples using items() method\n",
    "# Delete one of the items in the dictionary\n",
    "# Delete one of the dictionaries"
   ]
  },
  {
   "cell_type": "code",
   "execution_count": 6,
   "metadata": {},
   "outputs": [
    {
     "data": {
      "text/plain": [
       "dict"
      ]
     },
     "execution_count": 6,
     "metadata": {},
     "output_type": "execute_result"
    }
   ],
   "source": [
    "dog = { }\n",
    "type(dog)"
   ]
  },
  {
   "cell_type": "code",
   "execution_count": 10,
   "metadata": {},
   "outputs": [
    {
     "data": {
      "text/plain": [
       "{'name': 'Bingo', 'color': 'Brown', 'breed': 'Africa', 'legs': 2, 'age': 1}"
      ]
     },
     "execution_count": 10,
     "metadata": {},
     "output_type": "execute_result"
    }
   ],
   "source": [
    "dog.update({'name': 'Bingo',\n",
    "            'color': 'Brown',\n",
    "            'breed': 'Africa',\n",
    "            'legs': 2,\n",
    "            'age': 1})\n",
    "dog"
   ]
  },
  {
   "cell_type": "code",
   "execution_count": 4,
   "metadata": {},
   "outputs": [
    {
     "data": {
      "text/plain": [
       "9"
      ]
     },
     "execution_count": 4,
     "metadata": {},
     "output_type": "execute_result"
    }
   ],
   "source": [
    "# Create a student dictionary and add first_name, last_name, gender, age, marital status, skills, country, city and address as keys for the dictionary\n",
    "person = {'first_name': 'Al-amin',\n",
    "          'last_name': 'Nababa',\n",
    "          'gender': 'Male',\n",
    "          'age': 22,\n",
    "          'marital_status': 'single',\n",
    "          'skills': ['Python', 'C++', 'Javascript', 'HTML','CSS', 'Linux'],\n",
    "          'country': 'Nigeria',\n",
    "          'city': 'Abuja',\n",
    "          'address': 'No.333 gwaranfa'}\n",
    "\n",
    "## get dic len\n",
    "len(person)"
   ]
  },
  {
   "cell_type": "code",
   "execution_count": 5,
   "metadata": {},
   "outputs": [
    {
     "data": {
      "text/plain": [
       "(['Python', 'C++', 'Javascript', 'HTML', 'CSS', 'Linux'], list)"
      ]
     },
     "execution_count": 5,
     "metadata": {},
     "output_type": "execute_result"
    }
   ],
   "source": [
    "person['skills'], type(person['skills'])"
   ]
  },
  {
   "cell_type": "code",
   "execution_count": 6,
   "metadata": {},
   "outputs": [
    {
     "data": {
      "text/plain": [
       "dict_keys(['first_name', 'last_name', 'gender', 'age', 'marital_status', 'skills', 'country', 'city', 'address'])"
      ]
     },
     "execution_count": 6,
     "metadata": {},
     "output_type": "execute_result"
    }
   ],
   "source": [
    "person.keys()"
   ]
  },
  {
   "cell_type": "code",
   "execution_count": 7,
   "metadata": {},
   "outputs": [
    {
     "data": {
      "text/plain": [
       "['Python', 'C++', 'Javascript', 'HTML', 'CSS', 'Linux', ['C#', 'Java']]"
      ]
     },
     "execution_count": 7,
     "metadata": {},
     "output_type": "execute_result"
    }
   ],
   "source": [
    "person['skills'].append(['C#', 'Java'])\n",
    "person['skills']"
   ]
  },
  {
   "cell_type": "code",
   "execution_count": 8,
   "metadata": {},
   "outputs": [
    {
     "data": {
      "text/plain": [
       "dict_values(['Al-amin', 'Nababa', 'Male', 22, 'single', ['Python', 'C++', 'Javascript', 'HTML', 'CSS', 'Linux', ['C#', 'Java']], 'Nigeria', 'Abuja', 'No.333 gwaranfa'])"
      ]
     },
     "execution_count": 8,
     "metadata": {},
     "output_type": "execute_result"
    }
   ],
   "source": [
    "person.values()"
   ]
  },
  {
   "cell_type": "code",
   "execution_count": 32,
   "metadata": {},
   "outputs": [
    {
     "data": {
      "text/plain": [
       "dict_items([('first_name', 'Al-amin'), ('last_name', 'Nababa'), ('gender', 'Male'), ('age', 22), ('marital_status', 'single'), ('skills', ['Python', 'C++', 'Javascript', 'HTML', 'CSS', 'Linux', ['C#', 'Java'], ['C#', 'Java']]), ('country', 'Nigeria'), ('city', 'Abuja'), ('address', 'No.333 gwaranfa')])"
      ]
     },
     "execution_count": 32,
     "metadata": {},
     "output_type": "execute_result"
    }
   ],
   "source": [
    "person.items()"
   ]
  },
  {
   "cell_type": "code",
   "execution_count": 33,
   "metadata": {},
   "outputs": [
    {
     "data": {
      "text/plain": [
       "('address', 'No.333 gwaranfa')"
      ]
     },
     "execution_count": 33,
     "metadata": {},
     "output_type": "execute_result"
    }
   ],
   "source": [
    "person.popitem()"
   ]
  },
  {
   "cell_type": "code",
   "execution_count": 3,
   "metadata": {},
   "outputs": [
    {
     "ename": "NameError",
     "evalue": "name 'person' is not defined",
     "output_type": "error",
     "traceback": [
      "\u001b[1;31m---------------------------------------------------------------------------\u001b[0m",
      "\u001b[1;31mNameError\u001b[0m                                 Traceback (most recent call last)",
      "Cell \u001b[1;32mIn[3], line 1\u001b[0m\n\u001b[1;32m----> 1\u001b[0m \u001b[43mperson\u001b[49m\n",
      "\u001b[1;31mNameError\u001b[0m: name 'person' is not defined"
     ]
    }
   ],
   "source": [
    "person"
   ]
  }
 ],
 "metadata": {
  "kernelspec": {
   "display_name": "Python 3",
   "language": "python",
   "name": "python3"
  },
  "language_info": {
   "codemirror_mode": {
    "name": "ipython",
    "version": 3
   },
   "file_extension": ".py",
   "mimetype": "text/x-python",
   "name": "python",
   "nbconvert_exporter": "python",
   "pygments_lexer": "ipython3",
   "version": "3.11.5"
  }
 },
 "nbformat": 4,
 "nbformat_minor": 2
}
