{
 "cells": [
  {
   "cell_type": "code",
   "execution_count": 2,
   "metadata": {},
   "outputs": [
    {
     "name": "stdout",
     "output_type": "stream",
     "text": [
      "This is an empty tuple ()\n",
      "\n",
      "Imaganary siblings ('Ada', 'John', 'Adam', 'shahd')\n",
      "\n",
      "These are imaginary siblings ('Ada', 'John', 'Adam', 'shahd', 'walter', 'walker', 'John smith')\n",
      "\n",
      "I have 7 imaginary siblings\n",
      "\n",
      "Family members ('William', 'Venessa', 'Ada', 'John', 'Adam', 'shahd', 'walter', 'walker', 'John smith')\n"
     ]
    }
   ],
   "source": [
    "empty_tpl = ()\n",
    "print(f'This is an empty tuple {empty_tpl}\\n')\n",
    "siblings_tpl_sis = ('Ada', 'John', 'Adam', 'shahd') # (imaginary siblings are fine)\n",
    "print(f'Imaganary siblings {siblings_tpl_sis}\\n')\n",
    "siblings_brth = ('walter', 'walker', 'John smith')\n",
    "siblings = siblings_tpl_sis+siblings_brth\n",
    "print(f'These are imaginary siblings {siblings}\\n')\n",
    "print(f'I have {len(siblings)} imaginary siblings\\n')\n",
    "parent = ('William', 'Venessa')\n",
    "family_members = parent+siblings\n",
    "print(f'Family members {family_members}')"
   ]
  },
  {
   "cell_type": "code",
   "execution_count": 4,
   "metadata": {},
   "outputs": [
    {
     "name": "stdout",
     "output_type": "stream",
     "text": [
      "('William', 'Venessa')\n",
      "('Ada', 'John', 'Adam', 'shahd', 'walter', 'walker', 'John smith')\n"
     ]
    }
   ],
   "source": [
    "print(family_members[0:2])\n",
    "print(family_members[2:])"
   ]
  },
  {
   "cell_type": "code",
   "execution_count": 6,
   "metadata": {},
   "outputs": [
    {
     "data": {
      "text/plain": [
       "['Ada', 'John', 'Adam', 'shahd', 'walter', 'walker', 'John smith']"
      ]
     },
     "execution_count": 6,
     "metadata": {},
     "output_type": "execute_result"
    }
   ],
   "source": [
    "siblings = list(siblings)\n",
    "siblings"
   ]
  },
  {
   "cell_type": "code",
   "execution_count": 11,
   "metadata": {},
   "outputs": [
    {
     "name": "stdout",
     "output_type": "stream",
     "text": [
      "Is Estonia one of the nordic contries?\n",
      "No Estonia is not one of the nordic countries\n",
      "\n",
      "Is Iceland one of the nordic contries?\n",
      "Yes Iceland is one of the nordic country\n"
     ]
    }
   ],
   "source": [
    "nordic_countries = ('Denmark', 'Finland','Iceland', 'Norway', 'Sweden')\n",
    "check_estonia = 'Estonia' in nordic_countries # Check if 'Estonia' is a nordic country\n",
    "print('Is Estonia one of the nordic contries?')\n",
    "if check_estonia == True:\n",
    "    print(f'Yes Estonia is one of the nordic country')\n",
    "else:\n",
    "    print(f'No Estonia is not one of the nordic countries\\n')\n",
    "\n",
    "# Check if 'Iceland' is a nordic country\n",
    "print('Is Iceland one of the nordic contries?')\n",
    "check_iceland = 'Iceland' in nordic_countries # Check if 'Estonia' is a nordic country\n",
    "if check_iceland == True:\n",
    "    print(f'Yes Iceland is one of the nordic country')\n",
    "else:\n",
    "    print(f'No iceland is not one of the nordic countries')"
   ]
  }
 ],
 "metadata": {
  "kernelspec": {
   "display_name": "Python 3",
   "language": "python",
   "name": "python3"
  },
  "language_info": {
   "codemirror_mode": {
    "name": "ipython",
    "version": 3
   },
   "file_extension": ".py",
   "mimetype": "text/x-python",
   "name": "python",
   "nbconvert_exporter": "python",
   "pygments_lexer": "ipython3",
   "version": "3.11.5"
  }
 },
 "nbformat": 4,
 "nbformat_minor": 2
}
