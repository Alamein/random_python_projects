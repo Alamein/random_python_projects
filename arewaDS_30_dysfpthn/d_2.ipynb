{
 "cells": [
  {
   "cell_type": "code",
   "execution_count": 25,
   "metadata": {},
   "outputs": [],
   "source": [
    "# excslvl1\n",
    "# 1\n",
    "first_naame = 'Al-amin'\n",
    "last_name = 'Nababa'\n",
    "full_name = first_naame + ' ' + last_name\n",
    "country = 'Nigeria'\n",
    "city = 'Abuja'\n",
    "age = 21\n",
    "year = 2024\n",
    "is_married = False\n",
    "course,career,org, = 'Automotive Engineering', 'Data Scientist', 'ArewaDS'"
   ]
  },
  {
   "cell_type": "code",
   "execution_count": 9,
   "metadata": {},
   "outputs": [
    {
     "name": "stdout",
     "output_type": "stream",
     "text": [
      "<class 'str'>\n",
      "<class 'str'>\n",
      "<class 'int'>\n",
      "<class 'bool'>\n",
      "<class 'str'>\n",
      "<class 'str'>\n"
     ]
    }
   ],
   "source": [
    "print(type(first_naame))\n",
    "print(type(full_name))\n",
    "print(type(age))\n",
    "print(type(is_married))\n",
    "print(type(course))\n",
    "print(type(career))"
   ]
  },
  {
   "cell_type": "code",
   "execution_count": 10,
   "metadata": {},
   "outputs": [
    {
     "data": {
      "text/plain": [
       "7"
      ]
     },
     "execution_count": 10,
     "metadata": {},
     "output_type": "execute_result"
    }
   ],
   "source": [
    "len(first_naame)"
   ]
  },
  {
   "cell_type": "code",
   "execution_count": 12,
   "metadata": {},
   "outputs": [
    {
     "name": "stdout",
     "output_type": "stream",
     "text": [
      "True\n"
     ]
    }
   ],
   "source": [
    "print(len(first_naame) > len(last_name))"
   ]
  },
  {
   "cell_type": "code",
   "execution_count": 13,
   "metadata": {},
   "outputs": [
    {
     "data": {
      "text/plain": [
       "6"
      ]
     },
     "execution_count": 13,
     "metadata": {},
     "output_type": "execute_result"
    }
   ],
   "source": [
    "len(last_name)"
   ]
  },
  {
   "cell_type": "code",
   "execution_count": 16,
   "metadata": {},
   "outputs": [],
   "source": [
    "num_one = 5\n",
    "num_two = 4\n",
    "total = num_one + num_two\n",
    "diff = num_one - num_two\n",
    "product = num_one * num_two\n",
    "division = num_one/num_two\n",
    "remainder = num_one % num_two\n",
    "exp = num_one**num_two\n",
    "floor_division = num_one//num_two"
   ]
  },
  {
   "cell_type": "code",
   "execution_count": 17,
   "metadata": {},
   "outputs": [
    {
     "name": "stdout",
     "output_type": "stream",
     "text": [
      "5\n",
      "4\n",
      "9\n",
      "1\n",
      "20\n",
      "1.25\n",
      "1\n",
      "625\n",
      "1\n"
     ]
    }
   ],
   "source": [
    "print(num_one)\n",
    "print(num_two)\n",
    "print(total)\n",
    "print(diff)\n",
    "print(product)\n",
    "print(division)\n",
    "print(remainder)\n",
    "print(exp)\n",
    "print(floor_division)"
   ]
  },
  {
   "cell_type": "code",
   "execution_count": 19,
   "metadata": {},
   "outputs": [
    {
     "name": "stdout",
     "output_type": "stream",
     "text": [
      "2827.8\n",
      "188.52\n"
     ]
    }
   ],
   "source": [
    "# The radius of a circle is 30 meters\n",
    "pi = 3.142\n",
    "r = 30\n",
    "area_of_circle = float(format(pi * (r**2), '.2f'))\n",
    "circum_of_circle = float(format(2*pi*r, '.2f'))\n",
    "print(area_of_circle)\n",
    "print(circum_of_circle)"
   ]
  },
  {
   "cell_type": "code",
   "execution_count": 23,
   "metadata": {},
   "outputs": [
    {
     "name": "stdout",
     "output_type": "stream",
     "text": [
      "1256.8\n"
     ]
    }
   ],
   "source": [
    "radious = int(input('radious ? '))\n",
    "pi = 3.142\n",
    "area_of_circle = float(format(pi * (radious**2), '.2f'))\n",
    "print(area_of_circle)"
   ]
  },
  {
   "cell_type": "code",
   "execution_count": 26,
   "metadata": {},
   "outputs": [
    {
     "name": "stdout",
     "output_type": "stream",
     "text": [
      "Al-amin Nababa\n"
     ]
    }
   ],
   "source": [
    "print(full_name)"
   ]
  },
  {
   "cell_type": "code",
   "execution_count": 29,
   "metadata": {},
   "outputs": [
    {
     "name": "stdout",
     "output_type": "stream",
     "text": [
      "Hi namesake, welcome to python programming world!\n"
     ]
    }
   ],
   "source": [
    "name = input('your name is ? ')\n",
    "print(f'Hi {name}, welcome to python programming world!')"
   ]
  }
 ],
 "metadata": {
  "kernelspec": {
   "display_name": "Python 3",
   "language": "python",
   "name": "python3"
  },
  "language_info": {
   "codemirror_mode": {
    "name": "ipython",
    "version": 3
   },
   "file_extension": ".py",
   "mimetype": "text/x-python",
   "name": "python",
   "nbconvert_exporter": "python",
   "pygments_lexer": "ipython3",
   "version": "3.11.5"
  }
 },
 "nbformat": 4,
 "nbformat_minor": 2
}
