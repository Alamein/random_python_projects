{
 "cells": [
  {
   "cell_type": "code",
   "execution_count": 1,
   "metadata": {},
   "outputs": [],
   "source": [
    "fruits = ['banana', 'orange', 'mango', 'lemon']                     # list of fruits\n",
    "vegetables = ['Tomato', 'Potato', 'Cabbage','Onion', 'Carrot']      # list of vegetables\n",
    "animal_products = ['milk', 'meat', 'butter', 'yoghurt']             # list of animal products\n",
    "web_techs = ['HTML', 'CSS', 'JS', 'React','Redux', 'Node', 'MongDB'] # list of web technologies\n",
    "countries = ['Finland', 'Estonia', 'Denmark', 'Sweden', 'Norway'] # list of countries"
   ]
  },
  {
   "cell_type": "code",
   "execution_count": 17,
   "metadata": {},
   "outputs": [
    {
     "name": "stdout",
     "output_type": "stream",
     "text": [
      "Fruits: ['banana', 'orange', 'mango', 'lemon']\n",
      "Number of fruits 4\n",
      "\n",
      "vegetables: ['Tomato', 'Potato', 'Cabbage', 'Onion', 'Carrot']\n",
      "Number of vegetables: 5 \n",
      "\n",
      "Animmal Product: ['milk', 'meat', 'butter', 'yoghurt']\n",
      "Number of animal Product: 4 \n",
      "\n",
      "Web Technology tool: ['HTML', 'CSS', 'JS', 'React', 'Redux', 'Node', 'MongDB']\n",
      "Number of Web Technology tools: 7 \n",
      "\n",
      "Contries: ['Finland', 'Estonia', 'Denmark', 'Sweden', 'Norway']\n",
      "Number of contries 5\n"
     ]
    }
   ],
   "source": [
    "print(f'Fruits: {fruits}')\n",
    "print(f'Number of fruits {len(fruits)}\\n')\n",
    "print(f'vegetables: {vegetables}')\n",
    "print(f'Number of vegetables: {len(vegetables)} \\n')\n",
    "print('Animmal Product: %s' %animal_products)\n",
    "print('Number of animal Product: %d'%len(animal_products),'\\n')\n",
    "print('Web Technology tool: {}'.format(web_techs))\n",
    "print('Number of Web Technology tools: {}'.format(len(web_techs)),'\\n')\n",
    "print(f'Contries: {countries}')\n",
    "print(f'Number of contries {len(countries)}')"
   ]
  },
  {
   "cell_type": "code",
   "execution_count": 28,
   "metadata": {},
   "outputs": [
    {
     "name": "stdout",
     "output_type": "stream",
     "text": [
      "Finland\n",
      "Estonia\n",
      "Denmark\n",
      "['Sweden']\n"
     ]
    },
    {
     "data": {
      "text/plain": [
       "'Norway'"
      ]
     },
     "execution_count": 28,
     "metadata": {},
     "output_type": "execute_result"
    }
   ],
   "source": [
    "first_c, second_c, third_c, *remaining_Cs, last_c= countries\n",
    "print(first_c)\n",
    "print(second_c)\n",
    "print(third_c)\n",
    "print(remaining_Cs)\n",
    "last_c"
   ]
  },
  {
   "cell_type": "code",
   "execution_count": 32,
   "metadata": {},
   "outputs": [
    {
     "data": {
      "text/plain": [
       "['Estonia', 'Norway']"
      ]
     },
     "execution_count": 32,
     "metadata": {},
     "output_type": "execute_result"
    }
   ],
   "source": [
    "countries[1::3]"
   ]
  },
  {
   "cell_type": "code",
   "execution_count": 34,
   "metadata": {},
   "outputs": [
    {
     "data": {
      "text/plain": [
       "['America', 'Estonia', 'Denmark', 'Sweden', 'Norway']"
      ]
     },
     "execution_count": 34,
     "metadata": {},
     "output_type": "execute_result"
    }
   ],
   "source": [
    "countries[0] = 'America'\n",
    "countries"
   ]
  },
  {
   "cell_type": "code",
   "execution_count": 36,
   "metadata": {},
   "outputs": [
    {
     "data": {
      "text/plain": [
       "['America', 'Estonia', 'Denmark', 'Sweden', 'Norway', 'England', 'England']"
      ]
     },
     "execution_count": 36,
     "metadata": {},
     "output_type": "execute_result"
    }
   ],
   "source": [
    "countries.append('England')\n",
    "countries"
   ]
  },
  {
   "cell_type": "code",
   "execution_count": 37,
   "metadata": {},
   "outputs": [
    {
     "data": {
      "text/plain": [
       "['America',\n",
       " 'Swithland',\n",
       " 'Estonia',\n",
       " 'Denmark',\n",
       " 'Sweden',\n",
       " 'Norway',\n",
       " 'England',\n",
       " 'England']"
      ]
     },
     "execution_count": 37,
     "metadata": {},
     "output_type": "execute_result"
    }
   ],
   "source": [
    "countries.insert(1, 'Swithland')\n",
    "countries"
   ]
  },
  {
   "cell_type": "code",
   "execution_count": 38,
   "metadata": {},
   "outputs": [
    {
     "data": {
      "text/plain": [
       "['America',\n",
       " 'Swithland',\n",
       " 'Estonia',\n",
       " 'Denmark',\n",
       " 'Sweden',\n",
       " 'Norway',\n",
       " 'England',\n",
       " 'japan']"
      ]
     },
     "execution_count": 38,
     "metadata": {},
     "output_type": "execute_result"
    }
   ],
   "source": [
    "countries[-1] = 'japan'\n",
    "countries"
   ]
  },
  {
   "cell_type": "code",
   "execution_count": 39,
   "metadata": {},
   "outputs": [
    {
     "data": {
      "text/plain": [
       "True"
      ]
     },
     "execution_count": 39,
     "metadata": {},
     "output_type": "execute_result"
    }
   ],
   "source": [
    "'japan' in countries"
   ]
  },
  {
   "cell_type": "code",
   "execution_count": 43,
   "metadata": {},
   "outputs": [
    {
     "data": {
      "text/plain": [
       "['America', 'Swithland', 'Estonia', 'Denmark', 'Norway', 'England']"
      ]
     },
     "execution_count": 43,
     "metadata": {},
     "output_type": "execute_result"
    }
   ],
   "source": [
    "countries.remove('japan')\n",
    "countries"
   ]
  },
  {
   "cell_type": "code",
   "execution_count": 45,
   "metadata": {},
   "outputs": [
    {
     "data": {
      "text/plain": [
       "['America', 'Swithland', 'Norway', 'England']"
      ]
     },
     "execution_count": 45,
     "metadata": {},
     "output_type": "execute_result"
    }
   ],
   "source": [
    "countries.remove(countries[2])\n",
    "countries"
   ]
  },
  {
   "cell_type": "code",
   "execution_count": 46,
   "metadata": {},
   "outputs": [
    {
     "data": {
      "text/plain": [
       "'England'"
      ]
     },
     "execution_count": 46,
     "metadata": {},
     "output_type": "execute_result"
    }
   ],
   "source": [
    "countries.pop()"
   ]
  },
  {
   "cell_type": "code",
   "execution_count": 48,
   "metadata": {},
   "outputs": [
    {
     "data": {
      "text/plain": [
       "['America', 'Swithland', 'Norway']"
      ]
     },
     "execution_count": 48,
     "metadata": {},
     "output_type": "execute_result"
    }
   ],
   "source": [
    "countries"
   ]
  },
  {
   "cell_type": "code",
   "execution_count": 54,
   "metadata": {},
   "outputs": [
    {
     "data": {
      "text/plain": [
       "'Norway'"
      ]
     },
     "execution_count": 54,
     "metadata": {},
     "output_type": "execute_result"
    }
   ],
   "source": [
    "for i in countries:\n",
    "    i.upper\n",
    "i"
   ]
  },
  {
   "cell_type": "code",
   "execution_count": 64,
   "metadata": {},
   "outputs": [
    {
     "data": {
      "text/plain": [
       "'America# Swithland# Norway'"
      ]
     },
     "execution_count": 64,
     "metadata": {},
     "output_type": "execute_result"
    }
   ],
   "source": [
    "jn = \"# \"\n",
    "jn.join(countries)"
   ]
  },
  {
   "cell_type": "code",
   "execution_count": 67,
   "metadata": {},
   "outputs": [
    {
     "data": {
      "text/plain": [
       "['Swithland', 'Norway', 'America']"
      ]
     },
     "execution_count": 67,
     "metadata": {},
     "output_type": "execute_result"
    }
   ],
   "source": [
    "countries.sort(reverse=True)\n",
    "countries"
   ]
  },
  {
   "cell_type": "code",
   "execution_count": 69,
   "metadata": {},
   "outputs": [
    {
     "data": {
      "text/plain": [
       "['Swithland', 'Norway', 'America']"
      ]
     },
     "execution_count": 69,
     "metadata": {},
     "output_type": "execute_result"
    }
   ],
   "source": [
    "countries.reverse()\n",
    "countries"
   ]
  },
  {
   "cell_type": "code",
   "execution_count": 70,
   "metadata": {},
   "outputs": [
    {
     "data": {
      "text/plain": [
       "['Swithland', 'Norway', 'America']"
      ]
     },
     "execution_count": 70,
     "metadata": {},
     "output_type": "execute_result"
    }
   ],
   "source": [
    "countries[:3]"
   ]
  },
  {
   "cell_type": "code",
   "execution_count": 78,
   "metadata": {},
   "outputs": [],
   "source": [
    "front_end = ['HTML', 'CSS', 'JS', 'React', 'Redux']\n",
    "back_end = ['Node','Express', 'MongoDB']\n",
    "\n",
    "cp = front_end+back_end"
   ]
  },
  {
   "cell_type": "code",
   "execution_count": 80,
   "metadata": {},
   "outputs": [
    {
     "data": {
      "text/plain": [
       "['HTML', 'CSS', 'JS', 'React', 'Redux', 'Node', 'Express', 'MongoDB']"
      ]
     },
     "execution_count": 80,
     "metadata": {},
     "output_type": "execute_result"
    }
   ],
   "source": [
    "full_stack = cp.copy()\n",
    "full_stack"
   ]
  },
  {
   "cell_type": "code",
   "execution_count": null,
   "metadata": {},
   "outputs": [],
   "source": []
  }
 ],
 "metadata": {
  "kernelspec": {
   "display_name": "Python 3",
   "language": "python",
   "name": "python3"
  },
  "language_info": {
   "codemirror_mode": {
    "name": "ipython",
    "version": 3
   },
   "file_extension": ".py",
   "mimetype": "text/x-python",
   "name": "python",
   "nbconvert_exporter": "python",
   "pygments_lexer": "ipython3",
   "version": "3.11.5"
  }
 },
 "nbformat": 4,
 "nbformat_minor": 2
}
